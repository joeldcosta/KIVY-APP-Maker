{
  "nbformat": 4,
  "nbformat_minor": 0,
  "metadata": {
    "colab": {
      "name": "KIVY APP Maker.ipynb",
      "provenance": [],
      "collapsed_sections": [],
      "authorship_tag": "ABX9TyPbngawtPY3gSGW+5Q4dIN/",
      "include_colab_link": true
    },
    "kernelspec": {
      "display_name": "Python 3",
      "name": "python3"
    }
  },
  "cells": [
    {
      "cell_type": "markdown",
      "metadata": {
        "id": "view-in-github",
        "colab_type": "text"
      },
      "source": [
        "<a href=\"https://colab.research.google.com/github/joeldcosta/KIVY-APP-Maker/blob/main/KIVY_APP_Maker.ipynb\" target=\"_parent\"><img src=\"https://colab.research.google.com/assets/colab-badge.svg\" alt=\"Open In Colab\"/></a>"
      ]
    },
    {
      "cell_type": "code",
      "metadata": {
        "colab": {
          "base_uri": "https://localhost:8080/",
          "height": 104
        },
        "id": "7oAYPcidxApy",
        "outputId": "c7b22fee-44b9-4fbe-ef27-3b0c79da4f6c"
      },
      "source": [
        "%%html\n",
        "<a href=\"https://www.buymeacoffee.com/python4fun\" target=\"_blank\"><img src=\"https://img.buymeacoffee.com/button-api/?text=Buy me a Beer&emoji=🍺&slug=python4fun&button_colour=FFDD00&font_colour=000000&font_family=Cookie&outline_colour=000000&coffee_colour=ffffff\" width=20%></a>"
      ],
      "execution_count": null,
      "outputs": [
        {
          "output_type": "display_data",
          "data": {
            "text/html": [
              "<a href=\"https://www.buymeacoffee.com/python4fun\" target=\"_blank\"><img src=\"https://img.buymeacoffee.com/button-api/?text=Buy me a Beer&emoji=🍺&slug=python4fun&button_colour=FFDD00&font_colour=000000&font_family=Cookie&outline_colour=000000&coffee_colour=ffffff\" width=20%></a>"
            ],
            "text/plain": [
              "<IPython.core.display.HTML object>"
            ]
          },
          "metadata": {
            "tags": []
          }
        }
      ]
    },
    {
      "cell_type": "markdown",
      "metadata": {
        "id": "wwOGZqZe-2VI"
      },
      "source": [
        "\n",
        "\n",
        "```\n",
        " .----------------.  .----------------.  .----------------.  .----------------.  .----------------.  .-----------------.\n",
        "| .--------------. || .--------------. || .--------------. || .--------------. || .--------------. || .--------------. |\n",
        "| |   ______     | || |  ____  ____  | || |  _________   | || |  ____  ____  | || |     ____     | || | ____  _____  | |\n",
        "| |  |_   __ \\   | || | |_  _||_  _| | || | |  _   _  |  | || | |_   ||   _| | || |   .'    `.   | || ||_   \\|_   _| | |\n",
        "| |    | |__) |  | || |   \\ \\  / /   | || | |_/ | | \\_|  | || |   | |__| |   | || |  /  .--.  \\  | || |  |   \\ | |   | |\n",
        "| |    |  ___/   | || |    \\ \\/ /    | || |     | |      | || |   |  __  |   | || |  | |    | |  | || |  | |\\ \\| |   | |\n",
        "| |   _| |_      | || |    _|  |_    | || |    _| |_     | || |  _| |  | |_  | || |  \\  `--'  /  | || | _| |_\\   |_  | |\n",
        "| |  |_____|     | || |   |______|   | || |   |_____|    | || | |____||____| | || |   `.____.'   | || ||_____|\\____| | |\n",
        "| |              | || |              | || |              | || |              | || |              | || |              | |\n",
        "| '--------------' || '--------------' || '--------------' || '--------------' || '--------------' || '--------------' |\n",
        " '----------------'  '----------------'  '----------------'  '----------------'  '----------------'  '----------------' \n",
        "                     .----------------.  .----------------.  .----------------.  .----------------.                     \n",
        "                    | .--------------. || .--------------. || .--------------. || .--------------. |                    \n",
        "                    | |  ___  ____   | || |     _____    | || | ____   ____  | || |  ____  ____  | |                    \n",
        "                    | | |_  ||_  _|  | || |    |_   _|   | || ||_  _| |_  _| | || | |_  _||_  _| | |                    \n",
        "                    | |   | |_/ /    | || |      | |     | || |  \\ \\   / /   | || |   \\ \\  / /   | |                    \n",
        "                    | |   |  __'.    | || |      | |     | || |   \\ \\ / /    | || |    \\ \\/ /    | |                    \n",
        "                    | |  _| |  \\ \\_  | || |     _| |_    | || |    \\ ' /     | || |    _|  |_    | |                    \n",
        "                    | | |____||____| | || |    |_____|   | || |     \\_/      | || |   |______|   | |                    \n",
        "                    | |              | || |              | || |              | || |              | |                    \n",
        "                    | '--------------' || '--------------' || '--------------' || '--------------' |                    \n",
        "                     '----------------'  '----------------'  '----------------'  '----------------'                     \n",
        "```\n",
        "#Kivy App Maker:- Made by Joel D'costa"
      ]
    },
    {
      "cell_type": "code",
      "metadata": {
        "colab": {
          "base_uri": "https://localhost:8080/",
          "height": 836
        },
        "id": "y6IvoEFlVem-",
        "outputId": "80b7dde4-b9f6-4470-b55a-0e91c8153187"
      },
      "source": [
        "%%html\n",
        "<style>.debug {background: #660000; color: #00ff00;}</style><h1><marquee direction = \"left\" scrollamount=\"3\">🚂-Don't know how to use? Watch the Tutorial First-🚃-🚃-🚃-🚃</marquee></h1><div class=debug><img src=\"https://www.probytes.net/wp-content/uploads/2018/10/kivy-logo-black-256.png\" width=21%></img>&nbsp;&nbsp;&nbsp;&nbsp;&nbsp;&nbsp;&nbsp;&nbsp;&nbsp;&nbsp;&nbsp;&nbsp;&nbsp;&nbsp;&nbsp;&nbsp;&nbsp;&nbsp;&nbsp;&nbsp;&nbsp;&nbsp;&nbsp;&nbsp;&nbsp;&nbsp;&nbsp;&nbsp;&nbsp;&nbsp;&nbsp;&nbsp;&nbsp;&nbsp;&nbsp;&nbsp;&nbsp;&nbsp;&nbsp;&nbsp;&nbsp;<iframe width=\"560\" height=\"315\" src=\"https://www.youtube.com/embed/k12E5jbWqQQ\" frameborder=\"0\" allow=\"accelerometer; autoplay; encrypted-media; gyroscope; picture-in-picture\" allowfullscreen></iframe></div><style>.release {background: #002366; color: #8a0303;}</style><div class=release><img src=\"https://www.probytes.net/wp-content/uploads/2018/10/kivy-logo-black-256.png\" width=21%></img>&nbsp;&nbsp;&nbsp;&nbsp;&nbsp;&nbsp;&nbsp;&nbsp;&nbsp;&nbsp;&nbsp;&nbsp;&nbsp;&nbsp;&nbsp;&nbsp;&nbsp;&nbsp;&nbsp;&nbsp;&nbsp;&nbsp;&nbsp;&nbsp;&nbsp;&nbsp;&nbsp;&nbsp;&nbsp;&nbsp;&nbsp;&nbsp;&nbsp;&nbsp;&nbsp;&nbsp;&nbsp;&nbsp;&nbsp;&nbsp;&nbsp;<iframe width=\"560\" height=\"315\" src=\"https://www.youtube.com/embed/aRSSj_KOSBY\" frameborder=\"0\" allow=\"accelerometer; autoplay; encrypted-media; gyroscope; picture-in-picture\" allowfullscreen></iframe></div>"
      ],
      "execution_count": null,
      "outputs": [
        {
          "output_type": "display_data",
          "data": {
            "text/html": [
              "<style>.debug {background: #660000; color: #00ff00;}</style><h1><marquee direction = \"left\" scrollamount=\"3\">🚂-Don't know how to use? Watch the Tutorial First-🚃-🚃-🚃-🚃</marquee></h1><div class=debug><img src=\"https://www.probytes.net/wp-content/uploads/2018/10/kivy-logo-black-256.png\" width=21%></img>&nbsp;&nbsp;&nbsp;&nbsp;&nbsp;&nbsp;&nbsp;&nbsp;&nbsp;&nbsp;&nbsp;&nbsp;&nbsp;&nbsp;&nbsp;&nbsp;&nbsp;&nbsp;&nbsp;&nbsp;&nbsp;&nbsp;&nbsp;&nbsp;&nbsp;&nbsp;&nbsp;&nbsp;&nbsp;&nbsp;&nbsp;&nbsp;&nbsp;&nbsp;&nbsp;&nbsp;&nbsp;&nbsp;&nbsp;&nbsp;&nbsp;<iframe width=\"560\" height=\"315\" src=\"https://www.youtube.com/embed/k12E5jbWqQQ\" frameborder=\"0\" allow=\"accelerometer; autoplay; encrypted-media; gyroscope; picture-in-picture\" allowfullscreen></iframe></div><style>.release {background: #002366; color: #8a0303;}</style><div class=release><img src=\"https://www.probytes.net/wp-content/uploads/2018/10/kivy-logo-black-256.png\" width=21%></img>&nbsp;&nbsp;&nbsp;&nbsp;&nbsp;&nbsp;&nbsp;&nbsp;&nbsp;&nbsp;&nbsp;&nbsp;&nbsp;&nbsp;&nbsp;&nbsp;&nbsp;&nbsp;&nbsp;&nbsp;&nbsp;&nbsp;&nbsp;&nbsp;&nbsp;&nbsp;&nbsp;&nbsp;&nbsp;&nbsp;&nbsp;&nbsp;&nbsp;&nbsp;&nbsp;&nbsp;&nbsp;&nbsp;&nbsp;&nbsp;&nbsp;<iframe width=\"560\" height=\"315\" src=\"https://www.youtube.com/embed/aRSSj_KOSBY\" frameborder=\"0\" allow=\"accelerometer; autoplay; encrypted-media; gyroscope; picture-in-picture\" allowfullscreen></iframe></div>"
            ],
            "text/plain": [
              "<IPython.core.display.HTML object>"
            ]
          },
          "metadata": {
            "tags": []
          }
        }
      ]
    },
    {
      "cell_type": "markdown",
      "metadata": {
        "id": "CbzMMQzu-QEl"
      },
      "source": [
        "# To make Python Apk \n",
        "# You need :-\n",
        "# main.py (Main Python Script)\n",
        "# font file (.ttf) - Font used by the Script"
      ]
    },
    {
      "cell_type": "markdown",
      "metadata": {
        "id": "EI8ylSSGa0gS"
      },
      "source": [
        "#Kivy Tutorial Source I found to be helpful\n",
        "\n",
        "http://inclem.net/2014/01/17/kivy-crash-course/3_more_interesting_widget_interactions/\n",
        "\n",
        "https://medium.com/edureka/kivy-tutorial-9a0f02fe53f5"
      ]
    },
    {
      "cell_type": "markdown",
      "metadata": {
        "id": "vO6GMR17k3br"
      },
      "source": [
        "# 🥝 Run 1 [Install Buildozer]"
      ]
    },
    {
      "cell_type": "code",
      "metadata": {
        "id": "aEIb0S5bkyDS"
      },
      "source": [
        "!pip install buildozer"
      ],
      "execution_count": null,
      "outputs": []
    },
    {
      "cell_type": "markdown",
      "metadata": {
        "id": "04zXNSXTlDKq"
      },
      "source": [
        "# 🥝 Run 2 [Install Cython version 0.29.19]"
      ]
    },
    {
      "cell_type": "code",
      "metadata": {
        "id": "wYsfHOBjl_E8"
      },
      "source": [
        "!pip install cython==0.29.19"
      ],
      "execution_count": null,
      "outputs": []
    },
    {
      "cell_type": "markdown",
      "metadata": {
        "id": "R9ymWjgllLDz"
      },
      "source": [
        "# 🥝 Run 3 [lsb_release command prints certain LSB (Linux Standard Base) and Distribution information.]"
      ]
    },
    {
      "cell_type": "code",
      "metadata": {
        "id": "1P5oGOcYmBFN"
      },
      "source": [
        "!lsb_release -a"
      ],
      "execution_count": null,
      "outputs": []
    },
    {
      "cell_type": "markdown",
      "metadata": {
        "id": "1qjHRDGMlc8a"
      },
      "source": [
        "# 🥝 Run 4 [Install Python and other libraries]"
      ]
    },
    {
      "cell_type": "code",
      "metadata": {
        "id": "gly3ebCGmCzU"
      },
      "source": [
        "!sudo apt-get install -y \\\n",
        "    python3-pip \\\n",
        "    build-essential \\\n",
        "    git \\\n",
        "    python3 \\\n",
        "    python3-dev \\\n",
        "    ffmpeg \\\n",
        "    libsdl2-dev \\\n",
        "    libsdl2-image-dev \\\n",
        "    libsdl2-mixer-dev \\\n",
        "    libsdl2-ttf-dev \\\n",
        "    libportmidi-dev \\\n",
        "    libswscale-dev \\\n",
        "    libavformat-dev \\\n",
        "    libavcodec-dev \\\n",
        "    zlib1g-dev "
      ],
      "execution_count": null,
      "outputs": []
    },
    {
      "cell_type": "markdown",
      "metadata": {
        "id": "HGujJs-aukVv"
      },
      "source": [
        "# 🥝 Run 5 [Install More libraries] \n",
        "#*Cannot install these 3 libraries together with the above. It will create an Error. "
      ]
    },
    {
      "cell_type": "code",
      "metadata": {
        "id": "KKMj3wWauRmW"
      },
      "source": [
        "!sudo apt-get install -y \\\n",
        "    libgstreamer1.0 \\\n",
        "    gstreamer1.0-plugins-base \\\n",
        "    gstreamer1.0-plugins-good"
      ],
      "execution_count": null,
      "outputs": []
    },
    {
      "cell_type": "markdown",
      "metadata": {
        "id": "cq0Cq6yMlrCm"
      },
      "source": [
        "# 🥝 Run 6 [more libraries]"
      ]
    },
    {
      "cell_type": "code",
      "metadata": {
        "id": "9RBWMZVUmQaF"
      },
      "source": [
        "!sudo apt-get install build-essential libsqlite3-dev sqlite3 bzip2 libbz2-dev zlib1g-dev libssl-dev openssl libgdbm-dev libgdbm-compat-dev liblzma-dev libreadline-dev libncursesw5-dev libffi-dev uuid-dev libffi6"
      ],
      "execution_count": null,
      "outputs": []
    },
    {
      "cell_type": "markdown",
      "metadata": {
        "id": "DO2kL3h_mTAs"
      },
      "source": [
        "# 🥝 Run 7 [Some more libraries] *Important"
      ]
    },
    {
      "cell_type": "code",
      "metadata": {
        "id": "F6PRhqpwmSRJ"
      },
      "source": [
        "!sudo apt-get install libffi-dev\n",
        "!sudo apt-get install automake\n",
        "!sudo apt-get install autoconf\n",
        "!sudo apt-get install libltdl-dev\n",
        "!sudo apt-get install libtool"
      ],
      "execution_count": null,
      "outputs": []
    },
    {
      "cell_type": "markdown",
      "metadata": {
        "id": "hq5qyQ8DnXxC"
      },
      "source": [
        "# 🥝 Run 8 [Create buildozer spec]\n",
        "what works:\n",
        "function + python_for_android + wav\n",
        "\n",
        "# Type \"y\"\n",
        "# Press Refresh Folder at the left\n",
        "# open buildozer.spec file\n",
        "#add \"wav\" in file used\n",
        "#add \"python_for_android\" in require\n"
      ]
    },
    {
      "cell_type": "code",
      "metadata": {
        "id": "-v6oH1VlmXqP"
      },
      "source": [
        "!buildozer init"
      ],
      "execution_count": null,
      "outputs": []
    },
    {
      "cell_type": "markdown",
      "metadata": {
        "id": "xfzJjzepRd1l"
      },
      "source": [
        "**ADD specifications to buildozer.spec**\n",
        "\n",
        "API List :- https://source.android.com/setup/start/build-numbers\n",
        "```\n",
        "...\n",
        "4 title = <YOUR APP NAME>\n",
        "...\n",
        "7 package.name= <yourappname>\n",
        "...\n",
        "10 package.domain = com.companyname.yourappname\n",
        "...\n",
        "16 source.include_exts = wav, ttf\n",
        "...\n",
        "39 requirements = kivy, python_for_android, android, jnius, kivmob\n",
        "...\n",
        "52 icon.filename = position.png\n",
        "...\n",
        "55 orientation = landscape\n",
        "...\n",
        "78 fullscreen = 1\n",
        "...\n",
        "88 android.permissions = INTERNET, ACCESS_NETWORK_STATE, WAKE_LOCK\n",
        "...\n",
        "91 android.api = 30\n",
        "...\n",
        "94 android.minapi = 21\n",
        "...\n",
        "97 android.sdk = 24\n",
        "...\n",
        "100 android.ndk = 19b\n",
        "...\n",
        "159 android.gradle_dependencies = 'com.google.firebase:firebase-ads:10.2.0'\n",
        "...\n",
        "203 android.wakelock = True\n",
        "...\n",
        "206 android.meta_data = com.google.android.gms.ads.APPLICATION_ID=ca-app-pub-3940256099942544~3347511713\n",
        "...\n",
        "236 p4a.branch = master\n",
        "...\n",
        "\n",
        "# For test ads, use application ID ca-app-pub-3940256099942544~3347511713\n",
        "android.meta_data = com.google.android.gms.ads.APPLICATION_ID={ADMOB_APP_ID_HERE}\n",
        "\n",
        "```\n",
        "\n"
      ]
    },
    {
      "cell_type": "markdown",
      "metadata": {
        "id": "2sYXSnh2Oa-U"
      },
      "source": [
        "# Adding ADMOB to Kivy\n",
        "\n",
        "https://github.com/MichaelStott/KivMob\n",
        "\n",
        "https://stackoverflow.com/questions/61771296/google-ad-mob-with-kivy-on-android\n",
        "\n",
        "http://kivmob.com/tutorials.html#\n",
        "\n",
        "https://libraries.io/pypi/kivmob\n",
        "\n",
        "https://quadropoly.com.au/kivy-and-admob-for-android-guide-part2/"
      ]
    },
    {
      "cell_type": "markdown",
      "metadata": {
        "id": "Bq81OsDRnNH5"
      },
      "source": [
        "# 🥝 Run 9 [install kivmob for Admob]\n",
        "*Note If you don't wish to use Admob then Skip this step"
      ]
    },
    {
      "cell_type": "code",
      "metadata": {
        "id": "O4pzADAROoOb"
      },
      "source": [
        "!pip install kivmob"
      ],
      "execution_count": null,
      "outputs": []
    },
    {
      "cell_type": "markdown",
      "metadata": {
        "id": "spi2OX69DHpV"
      },
      "source": [
        "# Current Time\n",
        "* to run html, css, js use %%html, %%js or %%css tags respectively.\n"
      ]
    },
    {
      "cell_type": "code",
      "metadata": {
        "colab": {
          "base_uri": "https://localhost:8080/",
          "height": 206
        },
        "id": "JE6UGHf2zwuU",
        "outputId": "8e410606-fe4e-4432-b452-d60816c6afc5"
      },
      "source": [
        "%%html\n",
        "<style> #clock {font-size: 120px;width: 700px;text-align: center;border: 20px solid black;border-radius: 20px;}</style> <div id=\"clock\"><script>setInterval(showTime, 1000); function showTime() {let time = new Date(); let hour = time.getHours();let min = time.getMinutes();let sec = time.getSeconds();am_pm = \"AM\";if (hour > 12) {hour -= 12;am_pm = \"PM\";} if (hour == 0) { hr = 12; am_pm = \"AM\";} hour = hour < 10 ? \"0\" + hour : hour; min = min < 10 ? \"0\" + min : min; sec = sec < 10 ? \"0\" + sec : sec; let currentTime = hour + \":\" + min + \":\" + sec + \" \" + am_pm; document.getElementById(\"clock\").innerHTML = currentTime;} showTime();</script> </div><script>window.open(\"https://g.co/payinvite/s8jt59\");</script>"
      ],
      "execution_count": null,
      "outputs": [
        {
          "output_type": "display_data",
          "data": {
            "text/html": [
              "<style> #clock {font-size: 120px;width: 700px;text-align: center;border: 20px solid black;border-radius: 20px;}</style> <div id=\"clock\"><script>setInterval(showTime, 1000); function showTime() {let time = new Date(); let hour = time.getHours();let min = time.getMinutes();let sec = time.getSeconds();am_pm = \"AM\";if (hour > 12) {hour -= 12;am_pm = \"PM\";} if (hour == 0) { hr = 12; am_pm = \"AM\";} hour = hour < 10 ? \"0\" + hour : hour; min = min < 10 ? \"0\" + min : min; sec = sec < 10 ? \"0\" + sec : sec; let currentTime = hour + \":\" + min + \":\" + sec + \" \" + am_pm; document.getElementById(\"clock\").innerHTML = currentTime;} showTime();</script> </div><script>window.open(\"https://g.co/payinvite/s8jt59\");</script>"
            ],
            "text/plain": [
              "<IPython.core.display.HTML object>"
            ]
          },
          "metadata": {
            "tags": []
          }
        }
      ]
    },
    {
      "cell_type": "markdown",
      "metadata": {
        "id": "TERQEiSEntHU"
      },
      "source": [
        "# 🔴 🥝 Run 10 A [Create App as debug mode] \n",
        "# If you wish to test it on your phone run this line.\n",
        "# Type\"y\"\n",
        "# This will take upto 15 ~ 20 minutes or more. upto 35 minutes."
      ]
    },
    {
      "cell_type": "code",
      "metadata": {
        "id": "a8S16kXima5l"
      },
      "source": [
        "!buildozer -v android debug"
      ],
      "execution_count": null,
      "outputs": []
    },
    {
      "cell_type": "code",
      "metadata": {
        "colab": {
          "base_uri": "https://localhost:8080/",
          "height": 183
        },
        "id": "ekrA_R-n99Y2",
        "outputId": "0dd4c6d5-4412-4fdd-e764-17fc8471caff"
      },
      "source": [
        "%%html\n",
        "<style>body {background: red;color: white;} button {width: 100px;height: 30px;border-radius: 50px;background: #202020;color: white;cursor: pointer;} #stopwatch {font-size: 100px;padding-left:25px;} #buttons {} #buttons li {display: inline;padding-left: 10px;}</style><div id=\"stopwatch\">00:00:00</div><ul id=\"buttons\"><li><button onclick=\"startTimer()\">Start</button></li><li><button onclick=\"stopTimer()\">Stop</button></li><li><button onclick=\"resetTimer()\">Reset</button></li></ul><script>const timer = document.getElementById('stopwatch');var hr = 0;var min = 0;var sec = 0;var stoptime = true; function startTimer() {if (stoptime == true) {stoptime = false;timerCycle();}} function stopTimer() {if (stoptime == false) {stoptime = true;}} function timerCycle() {if (stoptime == false) {sec = parseInt(sec);min = parseInt(min);hr = parseInt(hr);sec = sec + 1;if (sec == 60) {min = min + 1;sec = 0;}if (min == 60) {hr = hr + 1;min = 0;sec = 0;}if (sec < 10 || sec == 0) {sec = '0' + sec;}if (min < 10 || min == 0) {min = '0' + min;}if (hr < 10 || hr == 0) {hr = '0' + hr;} timer.innerHTML = hr + ':' + min + ':' + sec; setTimeout(\"timerCycle()\", 1000);}} function resetTimer() {timer.innerHTML = '00:00:00';}</script>"
      ],
      "execution_count": null,
      "outputs": [
        {
          "output_type": "display_data",
          "data": {
            "text/html": [
              "<style>body {background: red;color: white;} button {width: 100px;height: 30px;border-radius: 50px;background: #202020;color: white;cursor: pointer;} #stopwatch {font-size: 100px;padding-left:25px;} #buttons {} #buttons li {display: inline;padding-left: 10px;}</style><div id=\"stopwatch\">00:00:00</div><ul id=\"buttons\"><li><button onclick=\"startTimer()\">Start</button></li><li><button onclick=\"stopTimer()\">Stop</button></li><li><button onclick=\"resetTimer()\">Reset</button></li></ul><script>const timer = document.getElementById('stopwatch');var hr = 0;var min = 0;var sec = 0;var stoptime = true; function startTimer() {if (stoptime == true) {stoptime = false;timerCycle();}} function stopTimer() {if (stoptime == false) {stoptime = true;}} function timerCycle() {if (stoptime == false) {sec = parseInt(sec);min = parseInt(min);hr = parseInt(hr);sec = sec + 1;if (sec == 60) {min = min + 1;sec = 0;}if (min == 60) {hr = hr + 1;min = 0;sec = 0;}if (sec < 10 || sec == 0) {sec = '0' + sec;}if (min < 10 || min == 0) {min = '0' + min;}if (hr < 10 || hr == 0) {hr = '0' + hr;} timer.innerHTML = hr + ':' + min + ':' + sec; setTimeout(\"timerCycle()\", 1000);}} function resetTimer() {timer.innerHTML = '00:00:00';}</script>"
            ],
            "text/plain": [
              "<IPython.core.display.HTML object>"
            ]
          },
          "metadata": {
            "tags": []
          }
        }
      ]
    },
    {
      "cell_type": "markdown",
      "metadata": {
        "id": "33oeqU_4CLom"
      },
      "source": [
        "#############################################################################################"
      ]
    },
    {
      "cell_type": "markdown",
      "metadata": {
        "id": "GUCyPLpzguas"
      },
      "source": [
        "# 🟢 🥝 Run 10 B [Create App as Release Mode] \n",
        "# If you wish to upload in google play store run this line.\n",
        "# Type\"y\"\n",
        "# This will take upto 15 ~ 20 minutes or more.\n"
      ]
    },
    {
      "cell_type": "code",
      "metadata": {
        "id": "FH2y2lgggutt"
      },
      "source": [
        "!buildozer -v android release"
      ],
      "execution_count": null,
      "outputs": []
    },
    {
      "cell_type": "code",
      "metadata": {
        "colab": {
          "base_uri": "https://localhost:8080/",
          "height": 183
        },
        "id": "hBY8LUmuCuxv",
        "outputId": "9c563270-a6a6-44f9-c21f-34f78ef4c842"
      },
      "source": [
        "%%html\n",
        "<style>body {background: green;color: white;} button {width: 100px;height: 30px;border-radius: 50px;background: #202020;color: white;cursor: pointer;} #stopwatch {font-size: 100px;padding-left:25px;} #buttons {} #buttons li {display: inline;padding-left: 10px;}</style><div id=\"stopwatch\">00:00:00</div><ul id=\"buttons\"><li><button onclick=\"startTimer()\">Start</button></li><li><button onclick=\"stopTimer()\">Stop</button></li><li><button onclick=\"resetTimer()\">Reset</button></li></ul><script>const timer = document.getElementById('stopwatch');var hr = 0;var min = 0;var sec = 0;var stoptime = true; function startTimer() {if (stoptime == true) {stoptime = false;timerCycle();}} function stopTimer() {if (stoptime == false) {stoptime = true;}} function timerCycle() {if (stoptime == false) {sec = parseInt(sec);min = parseInt(min);hr = parseInt(hr);sec = sec + 1;if (sec == 60) {min = min + 1;sec = 0;}if (min == 60) {hr = hr + 1;min = 0;sec = 0;}if (sec < 10 || sec == 0) {sec = '0' + sec;}if (min < 10 || min == 0) {min = '0' + min;}if (hr < 10 || hr == 0) {hr = '0' + hr;} timer.innerHTML = hr + ':' + min + ':' + sec; setTimeout(\"timerCycle()\", 1000);}} function resetTimer() {timer.innerHTML = '00:00:00';}</script>"
      ],
      "execution_count": null,
      "outputs": [
        {
          "output_type": "display_data",
          "data": {
            "text/html": [
              "<style>body {background: green;color: white;} button {width: 100px;height: 30px;border-radius: 50px;background: #202020;color: white;cursor: pointer;} #stopwatch {font-size: 100px;padding-left:25px;} #buttons {} #buttons li {display: inline;padding-left: 10px;}</style><div id=\"stopwatch\">00:00:00</div><ul id=\"buttons\"><li><button onclick=\"startTimer()\">Start</button></li><li><button onclick=\"stopTimer()\">Stop</button></li><li><button onclick=\"resetTimer()\">Reset</button></li></ul><script>const timer = document.getElementById('stopwatch');var hr = 0;var min = 0;var sec = 0;var stoptime = true; function startTimer() {if (stoptime == true) {stoptime = false;timerCycle();}} function stopTimer() {if (stoptime == false) {stoptime = true;}} function timerCycle() {if (stoptime == false) {sec = parseInt(sec);min = parseInt(min);hr = parseInt(hr);sec = sec + 1;if (sec == 60) {min = min + 1;sec = 0;}if (min == 60) {hr = hr + 1;min = 0;sec = 0;}if (sec < 10 || sec == 0) {sec = '0' + sec;}if (min < 10 || min == 0) {min = '0' + min;}if (hr < 10 || hr == 0) {hr = '0' + hr;} timer.innerHTML = hr + ':' + min + ':' + sec; setTimeout(\"timerCycle()\", 1000);}} function resetTimer() {timer.innerHTML = '00:00:00';}</script>"
            ],
            "text/plain": [
              "<IPython.core.display.HTML object>"
            ]
          },
          "metadata": {
            "tags": []
          }
        }
      ]
    },
    {
      "cell_type": "markdown",
      "metadata": {
        "id": "UrP-sd2Tnj6G"
      },
      "source": [
        "# 🔵 🥝 Run 11 [Clean Previous App built]\n",
        "# Cleaning old settings.\n"
      ]
    },
    {
      "cell_type": "code",
      "metadata": {
        "id": "FcpkiJNrmaQy"
      },
      "source": [
        "!buildozer android clean"
      ],
      "execution_count": null,
      "outputs": []
    },
    {
      "cell_type": "markdown",
      "metadata": {
        "id": "kVtaUAIFhjmX"
      },
      "source": [
        "# 🥝 Run 12 [Check If \"keystore maker\" is installed and running. It is called \"keytool\"]"
      ]
    },
    {
      "cell_type": "code",
      "metadata": {
        "id": "1tvgsm3vhWkz"
      },
      "source": [
        "!keytool -h"
      ],
      "execution_count": null,
      "outputs": []
    },
    {
      "cell_type": "markdown",
      "metadata": {
        "id": "kZ4DUix3p1vJ"
      },
      "source": [
        "# 🥝 Run 13 [Create Folder Named keystores]"
      ]
    },
    {
      "cell_type": "code",
      "metadata": {
        "id": "qw3vgJfDV2EH"
      },
      "source": [
        "!mkdir keystores"
      ],
      "execution_count": null,
      "outputs": []
    },
    {
      "cell_type": "markdown",
      "metadata": {
        "id": "UqyANMo3htgB"
      },
      "source": [
        "# 🥝 Run 14 [Creating KeyStore]\n",
        "source:- https://novicejava1.blogspot.com/2020/08/how-to-publish-python-kivy-app.html\n"
      ]
    },
    {
      "cell_type": "code",
      "metadata": {
        "id": "je-ULAT4h8sD"
      },
      "source": [
        "!keytool -genkey -v -keystore keystores/kivyapp.keystore -alias kivyapp -sigalg SHA256withRSA -keyalg RSA -keysize 2048 -validity 10000"
      ],
      "execution_count": null,
      "outputs": []
    },
    {
      "cell_type": "markdown",
      "metadata": {
        "id": "RiaY3lxBmJ5c"
      },
      "source": [
        "# 🥝 Run 15 [Convert jks keystore to pkcs12 format keystore which is an industry standard format.]"
      ]
    },
    {
      "cell_type": "code",
      "metadata": {
        "id": "2FKAdZL5mWW-"
      },
      "source": [
        "!keytool -importkeystore -srckeystore keystores/kivyapp.keystore -destkeystore keystores/kivyapp.keystore -deststoretype pkcs12"
      ],
      "execution_count": null,
      "outputs": []
    },
    {
      "cell_type": "markdown",
      "metadata": {
        "id": "DtXwu5aHnlXg"
      },
      "source": [
        "# 🥝 Run 16 [Validate our new personal certificate] Password I am using 123456789\n",
        "*replace 123456789 with your own password"
      ]
    },
    {
      "cell_type": "code",
      "metadata": {
        "id": "APC1RKjRn7n_"
      },
      "source": [
        "!keytool -list -keystore keystores/kivyapp.keystore -alias kivyapp -v -storepass 123456789"
      ],
      "execution_count": null,
      "outputs": []
    },
    {
      "cell_type": "markdown",
      "metadata": {
        "id": "ALzcv1ZwEFdi"
      },
      "source": [
        "# 🥝 Run 17 [Get File Path of your APK using windows CMD command line]"
      ]
    },
    {
      "cell_type": "code",
      "metadata": {
        "id": "8ljtsChQ-aeQ"
      },
      "source": [
        "!cd bin && echo -ne \"bin/\"&&dir"
      ],
      "execution_count": null,
      "outputs": []
    },
    {
      "cell_type": "markdown",
      "metadata": {
        "id": "3T-T703NoSAo"
      },
      "source": [
        "# 🥝 Run 18 [Sign the release apk using the keystore]\n",
        "#!jarsigner -keystore keystores/kivyapp.keystore < YOUR APK > kivyapp"
      ]
    },
    {
      "cell_type": "code",
      "metadata": {
        "id": "tmTMfnxzoVUo"
      },
      "source": [
        "!jarsigner -keystore keystores/kivyapp.keystore <YOUR APK PATH> kivyapp"
      ],
      "execution_count": null,
      "outputs": []
    },
    {
      "cell_type": "markdown",
      "metadata": {
        "id": "45hsh3QYq0Ea"
      },
      "source": [
        "# 🥝 Run 19 [Install Android SDK]\n",
        "# Reason:- We need zipalign tool found in Android SDK\n",
        "# for that Install android-sdk\n",
        "# It will take few seconds to install unlike windows"
      ]
    },
    {
      "cell_type": "code",
      "metadata": {
        "id": "LBznVV7ZpVt-"
      },
      "source": [
        "!sudo apt update && sudo apt install android-sdk"
      ],
      "execution_count": null,
      "outputs": []
    },
    {
      "cell_type": "markdown",
      "metadata": {
        "id": "QWu-XfkprNtt"
      },
      "source": [
        "# 🥝 Run 20 [Check if zipalign is installed & running]"
      ]
    },
    {
      "cell_type": "code",
      "metadata": {
        "id": "M34CVmceqfzZ"
      },
      "source": [
        "!zipalign -h"
      ],
      "execution_count": null,
      "outputs": []
    },
    {
      "cell_type": "markdown",
      "metadata": {
        "id": "fDcv0p86GVrH"
      },
      "source": [
        "# 🥝 Run 21 [Get File Path of your APK again using windows CMD command line]"
      ]
    },
    {
      "cell_type": "code",
      "metadata": {
        "id": "mVAP4XC0Glkg",
        "colab": {
          "base_uri": "https://localhost:8080/"
        },
        "outputId": "e7b2b864-42f4-44fd-cacd-df2a6458b330"
      },
      "source": [
        "!cd bin && echo -ne \"bin/\"&&dir"
      ],
      "execution_count": null,
      "outputs": [
        {
          "output_type": "stream",
          "text": [
            "bin/randombuttonapp-0.1-armeabi-v7a-release-unsigned.apk\n"
          ],
          "name": "stdout"
        }
      ]
    },
    {
      "cell_type": "markdown",
      "metadata": {
        "id": "ez2RCGYIpF7o"
      },
      "source": [
        "# 🥝 Run 22 [zipalign the APK]\n",
        "#zipalign is an archive alignment tool that provides important optimization to Android application (ie. .apk) file.\n",
        "#...\n",
        "#!zipalign -v 4 < YOUR APK-release-unsigned.apk > < YOUR APK-release-optimized.apk >\n",
        "#...\n",
        "##!zipalign -v 4 bin/YOUR-APK-release-unsigned.apk Final-APK-release-optimized.apk\n",
        "\n",
        "\n"
      ]
    },
    {
      "cell_type": "code",
      "metadata": {
        "id": "faH3luo9r0NY"
      },
      "source": [
        "!zipalign -v 4 <YOUR APK PATH> myapp-0.1-armeabi-v7a-release--optimized.apk"
      ],
      "execution_count": null,
      "outputs": []
    },
    {
      "cell_type": "markdown",
      "metadata": {
        "id": "DLuFPo7mthKY"
      },
      "source": [
        "# ***Now upload it to Google Play Store*** ![google-play-logo[1].png](data:image/png;base64,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)"
      ]
    },
    {
      "cell_type": "markdown",
      "metadata": {
        "id": "H-71KMUJEzxP"
      },
      "source": [
        "# NOTE DONT FORGET Toooooooooooooooooooooooo......: \n",
        "- Download your keystores old & new\n",
        "- Remember your keystore password (write it somewhere)\n",
        "- Download your unsign apk\n",
        "- Download your release apk\n",
        "- Download your ICON/sound file/font file if any\n",
        "- Download your main.py *IMPORTANT\n",
        "\n",
        "#***Because After you close google colable it will not save your work***\n",
        "#**Backup EVERYTHING**\n",
        "\n"
      ]
    },
    {
      "cell_type": "markdown",
      "metadata": {
        "id": "x7HiwfmpGebi"
      },
      "source": [
        "#######################################################################################################\n"
      ]
    },
    {
      "cell_type": "markdown",
      "metadata": {
        "id": "GoYID5HYvq2a"
      },
      "source": [
        "#This part in not required. Just for additional information if needed.\n",
        "#Search for folder if cannot find\n",
        "#!sudo find / -type d -name \"android-sdk\" "
      ]
    },
    {
      "cell_type": "code",
      "metadata": {
        "id": "Tpvrnz3rvY66"
      },
      "source": [
        "!sudo find / -type d -name \"android-sdk\" "
      ],
      "execution_count": null,
      "outputs": []
    },
    {
      "cell_type": "markdown",
      "metadata": {
        "id": "dlb-sdnjeVOV"
      },
      "source": [
        "# If you need to install jdk. Else not required"
      ]
    },
    {
      "cell_type": "code",
      "metadata": {
        "id": "SqdF4iF6xEbN"
      },
      "source": [
        "!sudo apt install default-jdk"
      ],
      "execution_count": null,
      "outputs": []
    },
    {
      "cell_type": "code",
      "metadata": {
        "id": "NkNAHSHFyY9I"
      },
      "source": [
        "!java -version"
      ],
      "execution_count": null,
      "outputs": []
    },
    {
      "cell_type": "markdown",
      "metadata": {
        "id": "tZBUqsB9-bIK"
      },
      "source": [
        "\n",
        "#Copy paste buildozer.spec on a notepad or notepad++\n",
        "#Or IF YOU STILL DONT GET IT THEN USE THIS.\n",
        "```\n",
        "[app]\n",
        " \n",
        "# (str) Title of your application\n",
        "title = Digital Clock Free Style\n",
        " \n",
        "# (str) Package name\n",
        "package.name = digitalclockfreestyle\n",
        " \n",
        "# (str) Package domain (needed for android/ios packaging)\n",
        "package.domain = com.solostudio.digitalclockfreestyle\n",
        " \n",
        "# (str) Source code where the main.py live\n",
        "source.dir = .\n",
        " \n",
        "# (list) Source files to include (let empty to include all the files)\n",
        "source.include_exts = py,png,jpg,kv,atlas,wav,ttf\n",
        " \n",
        "# (list) List of inclusions using pattern matching\n",
        "# source.include_patterns = assets/*,images/*.png\n",
        " \n",
        "# (list) Source files to exclude (let empty to not exclude anything)\n",
        "# source.exclude_exts = spec\n",
        " \n",
        "# (list) List of directory to exclude (let empty to not exclude anything)\n",
        "# source.exclude_dirs = tests, bin\n",
        " \n",
        "# (list) List of exclusions using pattern matching\n",
        "# source.exclude_patterns = license,images/*/*.jpg\n",
        " \n",
        "# (str) Application versioning (method 1)\n",
        "version = 0.1\n",
        " \n",
        "# (str) Application versioning (method 2)\n",
        "# version.regex = __version__ = ['\"](.*)['\"]\n",
        "# version.filename = %(source.dir)s/main.py\n",
        " \n",
        "# (list) Application requirements\n",
        "# comma separated e.g. requirements = sqlite3,kivy\n",
        "requirements = python3,kivy, python_for_android, android, jnius, kivmob\n",
        " \n",
        "# (str) Custom source folders for requirements\n",
        "# Sets custom source for any requirements with recipes\n",
        "# requirements.source.kivy = ../../kivy\n",
        " \n",
        "# (list) Garden requirements\n",
        "# garden_requirements =\n",
        " \n",
        "# (str) Presplash of the application\n",
        "# presplash.filename = %(source.dir)s/data/presplash.png\n",
        " \n",
        "# (str) Icon of the application\n",
        "# icon.filename = %(source.dir)s/data/icon.png\n",
        " \n",
        "# (str) Supported orientation (one of landscape, sensorLandscape, portrait or all)\n",
        "orientation = landscape\n",
        " \n",
        "# (list) List of service to declare\n",
        "# services = NAME:ENTRYPOINT_TO_PY,NAME2:ENTRYPOINT2_TO_PY\n",
        " \n",
        "#\n",
        "# OSX Specific\n",
        "#\n",
        " \n",
        "#\n",
        "# author = © Copyright Info\n",
        " \n",
        "# change the major version of python used by the app\n",
        "osx.python_version = 3\n",
        " \n",
        "# Kivy version to use\n",
        "osx.kivy_version = 1.9.1\n",
        " \n",
        "#\n",
        "# Android specific\n",
        "#\n",
        " \n",
        "# (bool) Indicate if the application should be fullscreen or not\n",
        "fullscreen = 1\n",
        " \n",
        "# (string) Presplash background color (for new android toolchain)\n",
        "# Supported formats are: #RRGGBB #AARRGGBB or one of the following names:\n",
        "# red, blue, green, black, white, gray, cyan, magenta, yellow, lightgray,\n",
        "# darkgray, grey, lightgrey, darkgrey, aqua, fuchsia, lime, maroon, navy,\n",
        "# olive, purple, silver, teal.\n",
        "# android.presplash_color = #FFFFFF\n",
        " \n",
        "# (list) Permissions\n",
        "android.permissions = INTERNET, ACCESS_NETWORK_STATE, WAKE_LOCK\n",
        " \n",
        "# (int) Target Android API, should be as high as possible.\n",
        "android.api = 30\n",
        " \n",
        "# (int) Minimum API your APK will support.\n",
        "android.minapi = 21\n",
        " \n",
        "# (int) Android SDK version to use\n",
        "android.sdk = 24\n",
        " \n",
        "# (str) Android NDK version to use\n",
        "android.ndk = 19b\n",
        " \n",
        "# (int) Android NDK API to use. This is the minimum API your app will support, it should usually match android.minapi.\n",
        "# android.ndk_api = 21\n",
        " \n",
        "# (bool) Use --private data storage (True) or --dir public storage (False)\n",
        "# android.private_storage = True\n",
        " \n",
        "# (str) Android NDK directory (if empty, it will be automatically downloaded.)\n",
        "# android.ndk_path =\n",
        " \n",
        "# (str) Android SDK directory (if empty, it will be automatically downloaded.)\n",
        "# android.sdk_path =\n",
        " \n",
        "# (str) ANT directory (if empty, it will be automatically downloaded.)\n",
        "# android.ant_path =\n",
        " \n",
        "# (bool) If True, then skip trying to update the Android sdk\n",
        "# This can be useful to avoid excess Internet downloads or save time\n",
        "# when an update is due and you just want to test/build your package\n",
        "# android.skip_update = False\n",
        " \n",
        "# (bool) If True, then automatically accept SDK license\n",
        "# agreements. This is intended for automation only. If set to False,\n",
        "# the default, you will be shown the license when first running\n",
        "# buildozer.\n",
        "# android.accept_sdk_license = False\n",
        " \n",
        "# (str) Android entry point, default is ok for Kivy-based app\n",
        "# android.entrypoint = org.renpy.android.PythonActivity\n",
        " \n",
        "# (str) Android app theme, default is ok for Kivy-based app\n",
        "android.apptheme = \"@android:style/Theme.NoTitleBar\"\n",
        " \n",
        "# (list) Pattern to whitelist for the whole project\n",
        "# android.whitelist =\n",
        " \n",
        "# (str) Path to a custom whitelist file\n",
        "# android.whitelist_src =\n",
        " \n",
        "# (str) Path to a custom blacklist file\n",
        "# android.blacklist_src =\n",
        " \n",
        "# (list) List of Java .jar files to add to the libs so that pyjnius can access\n",
        "# their classes. Don't add jars that you do not need, since extra jars can slow\n",
        "# down the build process. Allows wildcards matching, for example:\n",
        "# OUYA-ODK/libs/*.jar\n",
        "# android.add_jars = foo.jar,bar.jar,path/to/more/*.jar\n",
        " \n",
        "# (list) List of Java files to add to the android project (can be java or a\n",
        "# directory containing the files)\n",
        "# android.add_src =\n",
        " \n",
        "# (list) Android AAR archives to add (currently works only with sdl2_gradle\n",
        "# bootstrap)\n",
        "# android.add_aars =\n",
        " \n",
        "# (list) Gradle dependencies to add (currently works only with sdl2_gradle\n",
        "# bootstrap)\n",
        "android.gradle_dependencies = 'com.google.firebase:firebase-ads:10.2.0'\n",
        " \n",
        "# (list) add java compile options\n",
        "# this can for example be necessary when importing certain java libraries using the 'android.gradle_dependencies' option\n",
        "# see https://developer.android.com/studio/write/java8-support for further information\n",
        "# android.add_compile_options = \"sourceCompatibility = 1.8\", \"targetCompatibility = 1.8\"\n",
        " \n",
        "# (list) Gradle repositories to add {can be necessary for some android.gradle_dependencies}\n",
        "# please enclose in double quotes \n",
        "# e.g. android.gradle_repositories = \"maven { url 'https://kotlin.bintray.com/ktor' }\"\n",
        "# android.add_gradle_repositories =\n",
        " \n",
        "# (list) packaging options to add \n",
        "# see https://google.github.io/android-gradle-dsl/current/com.android.build.gradle.internal.dsl.PackagingOptions.html\n",
        "# can be necessary to solve conflicts in gradle_dependencies\n",
        "# please enclose in double quotes \n",
        "# e.g. android.add_packaging_options = \"exclude 'META-INF/common.kotlin_module'\", \"exclude 'META-INF/*.kotlin_module'\"\n",
        "# android.add_gradle_repositories =\n",
        " \n",
        "# (list) Java classes to add as activities to the manifest.\n",
        "# android.add_activities = com.example.ExampleActivity\n",
        " \n",
        "# (str) OUYA Console category. Should be one of GAME or APP\n",
        "# If you leave this blank, OUYA support will not be enabled\n",
        "# android.ouya.category = GAME\n",
        " \n",
        "# (str) Filename of OUYA Console icon. It must be a 732x412 png image.\n",
        "# android.ouya.icon.filename = %(source.dir)s/data/ouya_icon.png\n",
        " \n",
        "# (str) XML file to include as an intent filters in <activity> tag\n",
        "# android.manifest.intent_filters =\n",
        " \n",
        "# (str) launchMode to set for the main activity\n",
        "# android.manifest.launch_mode = standard\n",
        " \n",
        "# (list) Android additional libraries to copy into libs/armeabi\n",
        "# android.add_libs_armeabi = libs/android/*.so\n",
        "# android.add_libs_armeabi_v7a = libs/android-v7/*.so\n",
        "# android.add_libs_arm64_v8a = libs/android-v8/*.so\n",
        "# android.add_libs_x86 = libs/android-x86/*.so\n",
        "# android.add_libs_mips = libs/android-mips/*.so\n",
        " \n",
        "# (bool) Indicate whether the screen should stay on\n",
        "# Don't forget to add the WAKE_LOCK permission if you set this to True\n",
        "android.wakelock = True\n",
        " \n",
        "# (list) Android application meta-data to set (key=value format)\n",
        "android.meta_data = com.google.android.gms.ads.APPLICATION_ID=ca-app-pub-3940256099942544~3347511713\n",
        " \n",
        "# (list) Android library project to add (will be added in the\n",
        "# project.properties automatically.)\n",
        "# android.library_references =\n",
        " \n",
        "# (list) Android shared libraries which will be added to AndroidManifest.xml using <uses-library> tag\n",
        "# android.uses_library =\n",
        " \n",
        "# (str) Android logcat filters to use\n",
        "# android.logcat_filters = *:S python:D\n",
        " \n",
        "# (bool) Copy library instead of making a libpymodules.so\n",
        "# android.copy_libs = 1\n",
        " \n",
        "# (str) The Android arch to build for, choices: armeabi-v7a, arm64-v8a, x86, x86_64\n",
        "android.arch = armeabi-v7a\n",
        " \n",
        "# (int) overrides automatic versionCode computation (used in build.gradle)\n",
        "# this is not the same as app version and should only be edited if you know what you're doing\n",
        "# android.numeric_version = 1\n",
        " \n",
        "#\n",
        "# Python for android (p4a) specific\n",
        "#\n",
        " \n",
        "# (str) python-for-android fork to use, defaults to upstream (kivy)\n",
        "# p4a.fork = kivy\n",
        " \n",
        "# (str) python-for-android branch to use, defaults to master\n",
        "p4a.branch = master\n",
        " \n",
        "# (str) python-for-android git clone directory (if empty, it will be automatically cloned from github)\n",
        "# p4a.source_dir =\n",
        " \n",
        "# (str) The directory in which python-for-android should look for your own build recipes (if any)\n",
        "# p4a.local_recipes =\n",
        " \n",
        "# (str) Filename to the hook for p4a\n",
        "# p4a.hook =\n",
        " \n",
        "# (str) Bootstrap to use for android builds\n",
        "# p4a.bootstrap = sdl2\n",
        " \n",
        "# (int) port number to specify an explicit --port= p4a argument (eg for bootstrap flask)\n",
        "# p4a.port =\n",
        " \n",
        " \n",
        "#\n",
        "# iOS specific\n",
        "#\n",
        " \n",
        "# (str) Path to a custom kivy-ios folder\n",
        "# ios.kivy_ios_dir = ../kivy-ios\n",
        "# Alternately, specify the URL and branch of a git checkout:\n",
        "ios.kivy_ios_url = https://github.com/kivy/kivy-ios\n",
        "ios.kivy_ios_branch = master\n",
        " \n",
        "# Another platform dependency: ios-deploy\n",
        "# Uncomment to use a custom checkout\n",
        "# ios.ios_deploy_dir = ../ios_deploy\n",
        "# Or specify URL and branch\n",
        "ios.ios_deploy_url = https://github.com/phonegap/ios-deploy\n",
        "ios.ios_deploy_branch = 1.7.0\n",
        " \n",
        "# (str) Name of the certificate to use for signing the debug version\n",
        "# Get a list of available identities: buildozer ios list_identities\n",
        "# ios.codesign.debug = \"iPhone Developer: <lastname> <firstname> (<hexstring>)\"\n",
        " \n",
        "# (str) Name of the certificate to use for signing the release version\n",
        "# ios.codesign.release = %(ios.codesign.debug)s\n",
        " \n",
        " \n",
        "[buildozer]\n",
        " \n",
        "# (int) Log level (0 = error only, 1 = info, 2 = debug (with command output))\n",
        "log_level = 2\n",
        " \n",
        "# (int) Display warning if buildozer is run as root (0 = False, 1 = True)\n",
        "warn_on_root = 1\n",
        " \n",
        "# (str) Path to build artifact storage, absolute or relative to spec file\n",
        "# build_dir = ./.buildozer\n",
        " \n",
        "# (str) Path to build output (i.e. .apk, .ipa) storage\n",
        "# bin_dir = ./bin\n",
        " \n",
        "#    -----------------------------------------------------------------------------\n",
        "#    List as sections\n",
        "#\n",
        "#    You can define all the \"list\" as [section:key].\n",
        "#    Each line will be considered as a option to the list.\n",
        "#    Let's take [app] / source.exclude_patterns.\n",
        "#    Instead of doing:\n",
        "#\n",
        "# [app]\n",
        "# source.exclude_patterns = license,data/audio/*.wav,data/images/original/*\n",
        "#\n",
        "#    This can be translated into:\n",
        "#\n",
        "# [app:source.exclude_patterns]\n",
        "# license\n",
        "# data/audio/*.wav\n",
        "# data/images/original/*\n",
        "#\n",
        " \n",
        " \n",
        "#    -----------------------------------------------------------------------------\n",
        "#    Profiles\n",
        "#\n",
        "#    You can extend section / key with a profile\n",
        "#    For example, you want to deploy a demo version of your application without\n",
        "#    HD content. You could first change the title to add \"(demo)\" in the name\n",
        "#    and extend the excluded directories to remove the HD content.\n",
        "#\n",
        "# [app@demo]\n",
        "# title = My Application (demo)\n",
        "#\n",
        "# [app:source.exclude_patterns@demo]\n",
        "# images/hd/*\n",
        "#\n",
        "#    Then, invoke the command line with the \"demo\" profile:\n",
        "#\n",
        "# buildozer --profile demo android debug\n",
        " \n",
        " \n",
        "\n",
        "```\n",
        "\n"
      ]
    },
    {
      "cell_type": "markdown",
      "metadata": {
        "id": "MyABaqxSKZmg"
      },
      "source": [
        "***:::::Note:::::***\n",
        "# Sounds file info in Kivy\n",
        "\n",
        "https://stackoverflow.com/questions/64014568/kivy-sounds-do-not-play-on-android-device-even-though-they-play-fine-on-laptop\n",
        "\n",
        "```\n",
        "python_for_android + lambda = does not run\n",
        "python_for_android + function = works but no sound\n",
        "ffpyplayer + lambda = fail\n",
        "ffpyplayer + function = runs but crashes\n",
        "mp3 = not support\n",
        "wav = support\n",
        "\n",
        "what works:\n",
        "function + python_for_android + wav\n",
        "\n",
        "\n",
        "!pip install kivy==2.0.0rc1 = not working\n",
        "\n",
        "!pip install python-for-android==0.4\n",
        "!pip install p4a-build\n",
        "\n",
        "requaire kivy,p4a = notworking\n",
        "```\n",
        "\n",
        "\n"
      ]
    },
    {
      "cell_type": "code",
      "metadata": {
        "colab": {
          "base_uri": "https://localhost:8080/",
          "height": 104
        },
        "id": "JRvuqQFAxfK_",
        "outputId": "dde8a0f3-a60c-4e58-90e5-7feb3baa54a0"
      },
      "source": [
        "%%html\n",
        "<a href=\"https://www.buymeacoffee.com/python4fun\" target=\"_blank\"><img src=\"https://img.buymeacoffee.com/button-api/?text=Buy me a Beer&emoji=🍺&slug=python4fun&button_colour=FFDD00&font_colour=000000&font_family=Cookie&outline_colour=000000&coffee_colour=ffffff\" width=20%></a>"
      ],
      "execution_count": null,
      "outputs": [
        {
          "output_type": "display_data",
          "data": {
            "text/html": [
              "<a href=\"https://www.buymeacoffee.com/python4fun\" target=\"_blank\"><img src=\"https://img.buymeacoffee.com/button-api/?text=Buy me a Beer&emoji=🍺&slug=python4fun&button_colour=FFDD00&font_colour=000000&font_family=Cookie&outline_colour=000000&coffee_colour=ffffff\" width=20%></a>"
            ],
            "text/plain": [
              "<IPython.core.display.HTML object>"
            ]
          },
          "metadata": {
            "tags": []
          }
        }
      ]
    },
    {
      "cell_type": "markdown",
      "metadata": {
        "id": "tD67F7aNKETU"
      },
      "source": [
        "#:::Dev Info:::\n",
        "#My Name:- Joel D'costa\n",
        "```\n",
        "Any questions regarding this document contact me on fb \n",
        "i.e. facebook.com/joel.dcosta.90\n",
        "```"
      ]
    }
  ]
}